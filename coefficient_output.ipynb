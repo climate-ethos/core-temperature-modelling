{
 "cells": [
  {
   "cell_type": "code",
   "execution_count": 15,
   "metadata": {},
   "outputs": [
    {
     "name": "stdout",
     "output_type": "stream",
     "text": [
      "The coefficients with full numerical precision for Equation \\ref{eq:ytre_equation} ($y_\\text{tre}$) were:\n",
      "\\beta_1 \\text{(sex)} &= 1.7928919292419372 \\times 10^{-4} \\\\\n",
      "\\beta_2 \\text{(age)} &= -1.2782215627989637 \\times 10^{-4} \\\\\n",
      "\\beta_3 \\text{(height)} &= -4.8866914563523798 \\times 10^{-4} \\\\\n",
      "\\beta_4 \\text{(mass)} &= 3.2875143254325190 \\times 10^{-4} \\\\\n",
      "\\beta_5 \\text{(Ta)} &= 1.1896372603021774 \\times 10^{-3} \\\\\n",
      "\\beta_6 \\text{(RH)} &= 7.3121528017671462 \\times 10^{-4} \\\\\n",
      "\\beta_7 \\text{(previous Tre)} &= 9.9249651845859983 \\times 10^{-1} \\\\\n",
      "\\beta_8 \\text{(previous Tsk)} &= 5.7105662392354093 \\times 10^{-3} \\\\\n",
      "\\beta_c &= -1.0939827650824352 \\times 10^{-4} \\\\\n",
      "\n",
      "The coefficients with full numerical precision for Equation \\ref{eq:ymtsk_equation} ($y_\\text{mtsk}$) were:\n",
      "\\beta'_1 \\text{(sex)} &= 9.8998947425851131 \\times 10^{-4} \\\\\n",
      "\\beta'_2 \\text{(age)} &= 9.4114296782362175 \\times 10^{-4} \\\\\n",
      "\\beta'_3 \\text{(height)} &= -1.2714952819185610 \\times 10^{-4} \\\\\n",
      "\\beta'_4 \\text{(mass)} &= 1.9050831643684796 \\times 10^{-4} \\\\\n",
      "\\beta'_5 \\text{(Ta)} &= 1.8731854384438169 \\times 10^{-2} \\\\\n",
      "\\beta'_6 \\text{(RH)} &= 3.3004468949744292 \\times 10^{-3} \\\\\n",
      "\\beta'_7 \\text{(previous Tre)} &= -7.7154423906831999 \\times 10^{-4} \\\\\n",
      "\\beta'_8 \\text{(previous Tsk)} &= 9.3512493919150916 \\times 10^{-1} \\\\\n",
      "\\beta'_c &= 4.1409437117594816 \\times 10^{-2} \\\\\n"
     ]
    }
   ],
   "source": [
    "from joblib import load\n",
    "import numpy as np\n",
    "\n",
    "# Load the model\n",
    "with open('model_weights/ml_ridge_regression.pkl', 'rb') as file:\n",
    "    model = load(file)\n",
    "\n",
    "# Extract coefficients and intercept\n",
    "coefficients = model.coef_\n",
    "intercept = model.intercept_\n",
    "\n",
    "# Helper function to format the coefficients in scientific notation\n",
    "def format_coefficient(beta):\n",
    "    coeff, exponent = f'{beta:.16e}'.split('e')\n",
    "    coeff = float(coeff)\n",
    "    exponent = int(exponent)\n",
    "    return f'{coeff:.16f} \\\\times 10^{{{exponent}}}'\n",
    "\n",
    "# Prepare the output for ytre\n",
    "feature_names = ['sex', 'age', 'height', 'mass', 'Ta', 'RH', 'previous Tre', 'previous Tsk']\n",
    "ytre_coefs = [\n",
    "    f'\\\\beta_{i+1} \\\\text{{({name})}} &= {format_coefficient(coefficients[0][i])} \\\\\\\\'\n",
    "    for i, name in enumerate(feature_names)\n",
    "]\n",
    "ytre_coefs.append(f'\\\\beta_c &= {format_coefficient(intercept[0])} \\\\\\\\')\n",
    "\n",
    "# Prepare the output for ymtsk\n",
    "ymtsk_coefs = [\n",
    "    f\"\\\\beta'_{i+1} \\\\text{{({name})}} &= {format_coefficient(coefficients[1][i])} \\\\\\\\\"\n",
    "    for i, name in enumerate(feature_names)\n",
    "]\n",
    "ymtsk_coefs.append(f\"\\\\beta'_c &= {format_coefficient(intercept[1])} \\\\\\\\\")\n",
    "\n",
    "# Printing the formatted coefficients\n",
    "print('The coefficients with full numerical precision for Equation \\\\ref{eq:ytre_equation} ($y_\\\\text{tre}$) were:')\n",
    "for coef in ytre_coefs:\n",
    "    print(coef)\n",
    "\n",
    "print('\\nThe coefficients with full numerical precision for Equation \\\\ref{eq:ymtsk_equation} ($y_\\\\text{mtsk}$) were:')\n",
    "for coef in ymtsk_coefs:\n",
    "    print(coef)"
   ]
  }
 ],
 "metadata": {
  "kernelspec": {
   "display_name": ".venv",
   "language": "python",
   "name": "python3"
  },
  "language_info": {
   "codemirror_mode": {
    "name": "ipython",
    "version": 3
   },
   "file_extension": ".py",
   "mimetype": "text/x-python",
   "name": "python",
   "nbconvert_exporter": "python",
   "pygments_lexer": "ipython3",
   "version": "3.12.2"
  }
 },
 "nbformat": 4,
 "nbformat_minor": 2
}
