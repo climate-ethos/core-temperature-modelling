{
 "cells": [
  {
   "cell_type": "code",
   "execution_count": 1,
   "metadata": {},
   "outputs": [],
   "source": [
    "from models.ml_basic import train_and_run_all"
   ]
  },
  {
   "cell_type": "code",
   "execution_count": 2,
   "metadata": {},
   "outputs": [
    {
     "name": "stdout",
     "output_type": "stream",
     "text": [
      "ml_linear_regression\n",
      "Average TRE RMSE: 0.2828664328965232\n",
      "Average MTSK RMSE: 0.8357899849869086\n"
     ]
    }
   ],
   "source": [
    "from sklearn.linear_model import LinearRegression\n",
    "model = LinearRegression()\n",
    "train_and_run_all(model, 'ml_linear_regression')"
   ]
  },
  {
   "cell_type": "code",
   "execution_count": 3,
   "metadata": {},
   "outputs": [
    {
     "name": "stdout",
     "output_type": "stream",
     "text": [
      "ml_ridge_regression\n",
      "Average TRE RMSE: 0.28058353731561675\n",
      "Average MTSK RMSE: 0.8059075950084105\n"
     ]
    }
   ],
   "source": [
    "from sklearn.linear_model import Ridge\n",
    "model = Ridge()\n",
    "train_and_run_all(model, 'ml_ridge_regression')"
   ]
  },
  {
   "cell_type": "code",
   "execution_count": 2,
   "metadata": {},
   "outputs": [
    {
     "name": "stdout",
     "output_type": "stream",
     "text": [
      "ml_decision_tree\n",
      "Average TRE RMSE: 0.503688169255657\n",
      "Average MTSK RMSE: 1.755835654169412\n"
     ]
    }
   ],
   "source": [
    "# from sklearn.tree import DecisionTreeRegressor\n",
    "# model = DecisionTreeRegressor()\n",
    "# train_and_run_all(model, 'ml_decision_tree')"
   ]
  },
  {
   "cell_type": "code",
   "execution_count": 15,
   "metadata": {},
   "outputs": [
    {
     "name": "stdout",
     "output_type": "stream",
     "text": [
      "ml_neural_network\n",
      "Average TRE RMSE: 0.70464172357581\n",
      "Average MTSK RMSE: 1.64684576952427\n"
     ]
    }
   ],
   "source": [
    "# from sklearn.neural_network import MLPRegressor\n",
    "# model = MLPRegressor(hidden_layer_sizes=(10,))\n",
    "# train_and_run_all(model, 'ml_neural_network')"
   ]
  },
  {
   "cell_type": "code",
   "execution_count": 5,
   "metadata": {},
   "outputs": [
    {
     "name": "stdout",
     "output_type": "stream",
     "text": [
      "ml_random_forest\n",
      "Average TRE RMSE: 0.5446924351234365\n",
      "Average MTSK RMSE: 1.953904804549462\n"
     ]
    }
   ],
   "source": [
    "# from sklearn.ensemble import RandomForestRegressor\n",
    "# model = RandomForestRegressor()\n",
    "# train_and_run_all(model, 'ml_random_forest')"
   ]
  },
  {
   "cell_type": "code",
   "execution_count": 8,
   "metadata": {},
   "outputs": [
    {
     "name": "stdout",
     "output_type": "stream",
     "text": [
      "ml_lasso_regression\n",
      "Average TRE RMSE: 0.4978838151202787\n",
      "Average MTSK RMSE: 1.9226180274848454\n"
     ]
    }
   ],
   "source": [
    "# from sklearn.linear_model import Lasso\n",
    "# model = Lasso()\n",
    "# train_and_run_all(model, 'ml_lasso_regression')"
   ]
  },
  {
   "cell_type": "code",
   "execution_count": 4,
   "metadata": {},
   "outputs": [
    {
     "name": "stdout",
     "output_type": "stream",
     "text": [
      "ml_bagging_regression\n",
      "Average TRE RMSE: 0.5513451068897449\n",
      "Average MTSK RMSE: 2.597615593470967\n"
     ]
    }
   ],
   "source": [
    "# from sklearn.ensemble import BaggingRegressor\n",
    "# from sklearn.tree import DecisionTreeRegressor\n",
    "# base_estimator = DecisionTreeRegressor(max_depth=3)\n",
    "# model = BaggingRegressor(base_estimator=base_estimator, n_estimators=100)\n",
    "# train_and_run_all(model, 'ml_bagging_regression')"
   ]
  }
 ],
 "metadata": {
  "kernelspec": {
   "display_name": "base",
   "language": "python",
   "name": "python3"
  },
  "language_info": {
   "codemirror_mode": {
    "name": "ipython",
    "version": 3
   },
   "file_extension": ".py",
   "mimetype": "text/x-python",
   "name": "python",
   "nbconvert_exporter": "python",
   "pygments_lexer": "ipython3",
   "version": "3.9.12"
  }
 },
 "nbformat": 4,
 "nbformat_minor": 2
}
