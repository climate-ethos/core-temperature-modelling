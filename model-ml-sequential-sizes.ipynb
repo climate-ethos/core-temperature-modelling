{
 "cells": [
  {
   "cell_type": "markdown",
   "metadata": {},
   "source": [
    "# Imports & Prepare Data"
   ]
  },
  {
   "cell_type": "code",
   "execution_count": 1,
   "metadata": {},
   "outputs": [
    {
     "name": "stderr",
     "output_type": "stream",
     "text": [
      "/Users/s5068337/opt/anaconda3/lib/python3.9/site-packages/scipy/__init__.py:146: UserWarning: A NumPy version >=1.16.5 and <1.23.0 is required for this version of SciPy (detected version 1.26.4\n",
      "  warnings.warn(f\"A NumPy version >={np_minversion} and <{np_maxversion}\"\n"
     ]
    },
    {
     "name": "stdout",
     "output_type": "stream",
     "text": [
      "Max sequence length: 600\n"
     ]
    }
   ],
   "source": [
    "from models.ml_sequential import prepare_data, run_all\n",
    "import tensorflow as tf\n",
    "# Disable GPU training, comment out to enable\n",
    "tf.config.set_visible_devices([], 'GPU')\n",
    "# Imports used across models\n",
    "from keras.layers import Input, Dense, TimeDistributed, Dropout\n",
    "from keras.models import Sequential\n",
    "from keras.regularizers import l2\n",
    "\n",
    "features = ['female', 'age', 'height', 'mass', 'ta_set', 'rh_set']\n",
    "features_scaler, output_scaler, X_padded, y_padded, max_len = prepare_data(features)\n",
    "\n",
    "# Define the input/output shape\n",
    "input_shape = (None, X_padded.shape[-1])\n",
    "output_shape = y_padded.shape[-1]\n",
    "\n",
    "# Train the model with early stopping\n",
    "from keras.callbacks import EarlyStopping\n",
    "\n",
    "# Custom log callback\n",
    "class Callback(tf.keras.callbacks.Callback):\n",
    "    SHOW_NUMBER = 10\n",
    "    counter = 0\n",
    "    epoch = 0\n",
    "\n",
    "    def on_epoch_begin(self, epoch, logs=None):\n",
    "        self.epoch = epoch\n",
    "\n",
    "    def on_epoch_end(self, epoch, logs=None):\n",
    "        if self.counter == self.SHOW_NUMBER or self.epoch == 1:\n",
    "            print(f'Epoch: {self.epoch}, loss: {logs[\"loss\"]:.2f}', end='\\r')\n",
    "            # print(f'Epoch: {self.epoch}, loss: {logs[\"loss\"]:.2f}, val loss: {logs[\"val_loss\"]:.2f}', end='\\r')\n",
    "            if self.epoch > 1:\n",
    "                self.counter = 0\n",
    "        self.counter += 1"
   ]
  },
  {
   "cell_type": "code",
   "execution_count": 15,
   "metadata": {},
   "outputs": [
    {
     "name": "stdout",
     "output_type": "stream",
     "text": [
      "Running model size: 128\n",
      "Epoch: 290, loss: 0.00\n",
      "ml_gru_test\n",
      "Average TRE RMSE: 0.4397916843410326\n",
      "Average MTSK RMSE: 1.6221916434911903\n",
      "\n"
     ]
    }
   ],
   "source": [
    "from tensorflow.keras.layers import GRU, BatchNormalization\n",
    "\n",
    "# Sizes\n",
    "model_sizes = [128]\n",
    "\n",
    "# MODEL NAME\n",
    "model_name = 'ml_gru_test'\n",
    "\n",
    "for model_size in model_sizes:\n",
    "    # Model architecture\n",
    "    print(\"Running model size:\", model_size)\n",
    "    model = Sequential()\n",
    "    model.add(Input(shape=input_shape))\n",
    "    model.add(GRU(model_size, return_sequences=True))\n",
    "    model.add(GRU(64, return_sequences=True))\n",
    "    model.add(GRU(32, return_sequences=True))\n",
    "    model.add(TimeDistributed(Dense(output_shape)))\n",
    "\n",
    "    # Compile the model\n",
    "    model.compile(loss='mse', optimizer='adam')\n",
    "\n",
    "    # Train the model\n",
    "    # early_stopping = EarlyStopping(monitor='val_loss', patience=10, restore_best_weights=True)\n",
    "    model.fit(X_padded, y_padded, validation_split=0, epochs=300, batch_size=32, callbacks=[Callback()], verbose=0)\n",
    "    print()\n",
    "\n",
    "    # Run simulations using trained model\n",
    "    run_all(model, model_name, features, features_scaler, output_scaler, max_len)\n",
    "    print()"
   ]
  },
  {
   "cell_type": "code",
   "execution_count": 7,
   "metadata": {},
   "outputs": [
    {
     "name": "stdout",
     "output_type": "stream",
     "text": [
      "\n",
      "Search: Running Trial #1\n",
      "\n",
      "Value             |Best Value So Far |Hyperparameter\n",
      "8                 |8                 |gru_units\n",
      "8                 |8                 |dense_units\n",
      "0.2               |0.2               |dropout_rate\n",
      "\n",
      "Epoch 1/100\n"
     ]
    }
   ],
   "source": [
    "from tensorflow.keras.layers import GRU\n",
    "from tensorflow.keras.models import Sequential\n",
    "from tensorflow.keras.layers import Input, TimeDistributed, Dense, Dropout\n",
    "from tensorflow.keras.regularizers import l2\n",
    "from kerastuner import HyperParameters, RandomSearch\n",
    "\n",
    "model_name = 'test_gru'\n",
    "\n",
    "def build_model(hp):\n",
    "    model = Sequential()\n",
    "    model.add(Input(shape=input_shape))\n",
    "    model.add(GRU(units=hp.Int('gru_units', min_value=8, max_value=32, step=8), return_sequences=True))\n",
    "    model.add(TimeDistributed(Dense(units=hp.Int('dense_units', min_value=4, max_value=16, step=4), activation='linear', kernel_regularizer=l2(0.01))))\n",
    "    model.add(Dropout(rate=hp.Float('dropout_rate', min_value=0.1, max_value=0.3, step=0.1)))\n",
    "    model.add(TimeDistributed(Dense(output_shape)))\n",
    "    model.compile(loss='mse', optimizer='adam')\n",
    "    return model\n",
    "\n",
    "# Define the hyperparameter search space\n",
    "hp = HyperParameters()\n",
    "hp.Int('gru_units', min_value=8, max_value=32, step=8)\n",
    "hp.Int('dense_units', min_value=4, max_value=16, step=4)\n",
    "hp.Float('dropout_rate', min_value=0.1, max_value=0.3, step=0.1)\n",
    "\n",
    "# Create the random search tuner\n",
    "tuner = RandomSearch(\n",
    "    build_model,\n",
    "    objective='val_loss',\n",
    "    max_trials=10,\n",
    "    hyperparameters=hp,\n",
    "    executions_per_trial=3,\n",
    "    directory='tuner_dir',\n",
    "    project_name='ml_gru_tuning'\n",
    ")\n",
    "\n",
    "# Perform the hyperparameter search\n",
    "tuner.search(X_padded, y_padded, epochs=100, batch_size=32, validation_split=0.2)\n",
    "\n",
    "# Get the best model and hyperparameters\n",
    "best_model = tuner.get_best_models(num_models=1)[0]\n",
    "best_hyperparameters = tuner.get_best_hyperparameters(num_trials=1)[0]\n",
    "print(\"Best hyperparameters: \", best_hyperparameters.values)\n",
    "\n",
    "# Use the best model for further evaluation or predictions\n",
    "best_model.fit(X_padded, y_padded, epochs=100, batch_size=32, verbose=0)\n",
    "\n",
    "best_model.save('model_weights/{}.keras'.format(model_name))\n",
    "# Run simulations using trained model\n",
    "run_all(best_model, model_name, features, features_scaler, output_scaler, max_len)"
   ]
  }
 ],
 "metadata": {
  "kernelspec": {
   "display_name": "base",
   "language": "python",
   "name": "python3"
  },
  "language_info": {
   "codemirror_mode": {
    "name": "ipython",
    "version": 3
   },
   "file_extension": ".py",
   "mimetype": "text/x-python",
   "name": "python",
   "nbconvert_exporter": "python",
   "pygments_lexer": "ipython3",
   "version": "3.9.12"
  }
 },
 "nbformat": 4,
 "nbformat_minor": 2
}
