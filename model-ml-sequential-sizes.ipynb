{
 "cells": [
  {
   "cell_type": "markdown",
   "metadata": {},
   "source": [
    "# Imports & Prepare Data"
   ]
  },
  {
   "cell_type": "code",
   "execution_count": 5,
   "metadata": {},
   "outputs": [
    {
     "name": "stdout",
     "output_type": "stream",
     "text": [
      "Max sequence length: 600\n"
     ]
    }
   ],
   "source": [
    "from models.ml_sequential import prepare_data, run_all\n",
    "import tensorflow as tf\n",
    "# Disable GPU training, comment out to enable\n",
    "tf.config.set_visible_devices([], 'GPU')\n",
    "# Imports used across models\n",
    "from keras.layers import Input, Dense, TimeDistributed, Dropout\n",
    "from keras.models import Sequential\n",
    "from keras.regularizers import l2\n",
    "\n",
    "features = ['female', 'age', 'height', 'mass', 'ta_set', 'rh_set']\n",
    "features_scaler, output_scaler, X_padded, y_padded, max_len = prepare_data(features)\n",
    "\n",
    "# Define the input/output shape\n",
    "input_shape = (None, X_padded.shape[-1])\n",
    "output_shape = y_padded.shape[-1]\n",
    "\n",
    "# Train the model with early stopping\n",
    "from keras.callbacks import EarlyStopping\n",
    "\n",
    "# Custom log callback\n",
    "class Callback(tf.keras.callbacks.Callback):\n",
    "    SHOW_NUMBER = 10\n",
    "    counter = 0\n",
    "    epoch = 0\n",
    "\n",
    "    def on_epoch_begin(self, epoch, logs=None):\n",
    "        self.epoch = epoch\n",
    "\n",
    "    def on_epoch_end(self, epoch, logs=None):\n",
    "        if self.counter == self.SHOW_NUMBER or self.epoch == 1:\n",
    "            print(f'Epoch: {self.epoch}, loss: {logs[\"loss\"]:.2f}', end='\\r')\n",
    "            # print(f'Epoch: {self.epoch}, loss: {logs[\"loss\"]:.2f}, val loss: {logs[\"val_loss\"]:.2f}', end='\\r')\n",
    "            if self.epoch > 1:\n",
    "                self.counter = 0\n",
    "        self.counter += 1"
   ]
  },
  {
   "cell_type": "code",
   "execution_count": 6,
   "metadata": {},
   "outputs": [
    {
     "name": "stdout",
     "output_type": "stream",
     "text": [
      "Running model size: 16\n",
      "Epoch: 90, loss: 0.01\n",
      "ml_gru_test\n",
      "Average TRE RMSE: 0.8076143716324512\n",
      "Average MTSK RMSE: 2.201018757974094\n",
      "\n"
     ]
    }
   ],
   "source": [
    "from tensorflow.keras.layers import GRU, BatchNormalization\n",
    "\n",
    "# Sizes\n",
    "model_sizes = [16]\n",
    "\n",
    "# MODEL NAME\n",
    "model_name = 'ml_gru_test'\n",
    "\n",
    "for model_size in model_sizes:\n",
    "    # Model architecture\n",
    "    print(\"Running model size:\", model_size)\n",
    "    model = Sequential()\n",
    "    model.add(Input(shape=input_shape))\n",
    "    model.add(GRU(model_size, return_sequences=True))\n",
    "    model.add(BatchNormalization())\n",
    "    model.add(TimeDistributed(Dense(output_shape)))\n",
    "\n",
    "    # Compile the model\n",
    "    model.compile(loss='mse', optimizer='adam')\n",
    "\n",
    "    # Train the model\n",
    "    # early_stopping = EarlyStopping(monitor='val_loss', patience=10, restore_best_weights=True)\n",
    "    model.fit(X_padded, y_padded, validation_split=0, epochs=100, batch_size=32, callbacks=[Callback()], verbose=0)\n",
    "    print()\n",
    "\n",
    "    # Run simulations using trained model\n",
    "    run_all(model, model_name, features, features_scaler, output_scaler, max_len)\n",
    "    print()"
   ]
  }
 ],
 "metadata": {
  "kernelspec": {
   "display_name": "base",
   "language": "python",
   "name": "python3"
  },
  "language_info": {
   "codemirror_mode": {
    "name": "ipython",
    "version": 3
   },
   "file_extension": ".py",
   "mimetype": "text/x-python",
   "name": "python",
   "nbconvert_exporter": "python",
   "pygments_lexer": "ipython3",
   "version": "3.9.12"
  }
 },
 "nbformat": 4,
 "nbformat_minor": 2
}
