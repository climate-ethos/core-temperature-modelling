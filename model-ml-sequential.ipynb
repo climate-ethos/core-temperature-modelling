{
 "cells": [
  {
   "cell_type": "markdown",
   "metadata": {},
   "source": [
    "# Imports & Prepare Data"
   ]
  },
  {
   "cell_type": "code",
   "execution_count": 1,
   "metadata": {},
   "outputs": [
    {
     "name": "stdout",
     "output_type": "stream",
     "text": [
      "Max sequence length: 660\n"
     ]
    }
   ],
   "source": [
    "from models.ml_sequential import prepare_data, run_all\n",
    "import tensorflow as tf\n",
    "# Disable GPU training, comment out to enable\n",
    "tf.config.set_visible_devices([], 'GPU')\n",
    "# Imports used across models\n",
    "from keras.layers import Input, Dense, TimeDistributed, Dropout\n",
    "from keras.models import Sequential\n",
    "from keras.regularizers import l2\n",
    "\n",
    "features = ['female', 'age', 'height', 'mass', 'ta_set', 'rh_set']\n",
    "features_scaler, output_scaler, X_padded, y_padded, max_len = prepare_data(features)\n",
    "\n",
    "# Define the input/output shape\n",
    "input_shape = (None, X_padded.shape[-1])\n",
    "output_shape = y_padded.shape[-1]\n",
    "\n",
    "# Train the model with early stopping\n",
    "from keras.callbacks import EarlyStopping\n",
    "\n",
    "# Custom log callback\n",
    "class PrintCallback(tf.keras.callbacks.Callback):\n",
    "    def on_epoch_end(self, epoch, logs=None):\n",
    "        print(f'Epoch: {epoch+1}, loss: {logs[\"loss\"]:.2f}', end='\\r')\n",
    "\n",
    "    def on_train_end(self, epoch):\n",
    "        print()"
   ]
  },
  {
   "cell_type": "markdown",
   "metadata": {},
   "source": [
    "# RNN"
   ]
  },
  {
   "cell_type": "code",
   "execution_count": 2,
   "metadata": {},
   "outputs": [
    {
     "name": "stdout",
     "output_type": "stream",
     "text": [
      "Epoch: 500, loss: 0.08\n",
      "ml_rnn\n",
      "Average TRE RMSE: 0.4306865951655981\n",
      "Average MTSK RMSE: 1.5293141702215483\n"
     ]
    }
   ],
   "source": [
    "from keras.layers import SimpleRNN\n",
    "\n",
    "# MODEL NAME\n",
    "model_name = 'ml_rnn'\n",
    "\n",
    "# Model architecture\n",
    "model = Sequential()\n",
    "model.add(Input(shape=input_shape))\n",
    "model.add(SimpleRNN(16, return_sequences=True, dropout=0.2, recurrent_dropout=0.2, kernel_regularizer=l2(0.01), recurrent_regularizer=l2(0.01)))\n",
    "model.add(TimeDistributed(Dense(8, activation='linear', kernel_regularizer=l2(0.01))))\n",
    "model.add(Dropout(0.2))\n",
    "model.add(TimeDistributed(Dense(output_shape)))\n",
    "\n",
    "# Compile the model\n",
    "model.compile(loss='mse', optimizer='adam')\n",
    "\n",
    "# Train the model\n",
    "early_stopping = EarlyStopping(monitor='val_loss', patience=10, restore_best_weights=True)\n",
    "model.fit(X_padded, y_padded, validation_split=0.2, epochs=500, batch_size=32, callbacks=[PrintCallback(), early_stopping], verbose=0)\n",
    "\n",
    "# Save the model\n",
    "model.save('model_weights/{}.keras'.format(model_name))\n",
    "\n",
    "# Run simulations using trained model\n",
    "run_all(model, model_name, features, features_scaler, output_scaler, max_len)"
   ]
  },
  {
   "cell_type": "markdown",
   "metadata": {},
   "source": [
    "# LSTM"
   ]
  },
  {
   "cell_type": "code",
   "execution_count": 3,
   "metadata": {},
   "outputs": [
    {
     "name": "stdout",
     "output_type": "stream",
     "text": [
      "Epoch: 243, loss: 0.05\n",
      "ml_lstm\n",
      "Average TRE RMSE: 0.432180301689918\n",
      "Average MTSK RMSE: 1.4988961128735807\n"
     ]
    }
   ],
   "source": [
    "from keras.layers import LSTM\n",
    "\n",
    "# MODEL NAME\n",
    "model_name = 'ml_lstm'\n",
    "\n",
    "# Model architecture\n",
    "model = Sequential()\n",
    "model.add(Input(shape=input_shape))\n",
    "model.add(LSTM(16, return_sequences=True, dropout=0.2, recurrent_dropout=0.2, kernel_regularizer=l2(0.01), recurrent_regularizer=l2(0.01)))\n",
    "model.add(TimeDistributed(Dense(8, activation='linear', kernel_regularizer=l2(0.01))))\n",
    "model.add(Dropout(0.2))\n",
    "model.add(TimeDistributed(Dense(output_shape)))\n",
    "\n",
    "# Compile the model\n",
    "model.compile(loss='mse', optimizer='adam')\n",
    "\n",
    "# Train the model\n",
    "early_stopping = EarlyStopping(monitor='val_loss', patience=10, restore_best_weights=True)\n",
    "model.fit(X_padded, y_padded, validation_split=0.2, epochs=500, batch_size=32, callbacks=[PrintCallback(), early_stopping], verbose=0)\n",
    "\n",
    "# Save the model\n",
    "model.save('model_weights/{}.keras'.format(model_name))\n",
    "\n",
    "# Run simulations using trained model\n",
    "run_all(model, model_name, features, features_scaler, output_scaler, max_len)"
   ]
  },
  {
   "cell_type": "markdown",
   "metadata": {},
   "source": [
    "# GRU"
   ]
  },
  {
   "cell_type": "code",
   "execution_count": null,
   "metadata": {},
   "outputs": [
    {
     "name": "stdout",
     "output_type": "stream",
     "text": [
      "Epoch: 390, loss: 0.01\n",
      "ml_gru\n",
      "Average TRE RMSE: 0.5395877257075038\n",
      "Average MTSK RMSE: 2.1883229956111894\n"
     ]
    }
   ],
   "source": [
    "from tensorflow.keras.layers import GRU\n",
    "\n",
    "# MODEL NAME\n",
    "model_name = 'ml_gru'\n",
    "\n",
    "# Model architecture\n",
    "model = Sequential()\n",
    "model.add(Input(shape=input_shape))\n",
    "model.add(GRU(16, return_sequences=True))\n",
    "model.add(TimeDistributed(Dense(8, activation='linear', kernel_regularizer=l2(0.01))))\n",
    "model.add(Dropout(0.2))\n",
    "model.add(TimeDistributed(Dense(output_shape)))\n",
    "\n",
    "# Compile the model\n",
    "model.compile(loss='mse', optimizer='adam')\n",
    "\n",
    "# Train the model\n",
    "early_stopping = EarlyStopping(monitor='val_loss', patience=10, restore_best_weights=True)\n",
    "model.fit(X_padded, y_padded, validation_split=0.2, epochs=500, batch_size=32, callbacks=[PrintCallback(), early_stopping], verbose=0)\n",
    "\n",
    "# Save the model\n",
    "model.save('model_weights/{}.keras'.format(model_name))\n",
    "\n",
    "# Run simulations using trained model\n",
    "run_all(model, model_name, features, features_scaler, output_scaler, max_len)"
   ]
  },
  {
   "cell_type": "markdown",
   "metadata": {},
   "source": [
    "# TCN"
   ]
  },
  {
   "cell_type": "code",
   "execution_count": 10,
   "metadata": {},
   "outputs": [
    {
     "name": "stdout",
     "output_type": "stream",
     "text": [
      "Epoch: 500, loss: 0.03\n",
      "ml_tcn\n",
      "Average TRE RMSE: 0.4642991150064746\n",
      "Average MTSK RMSE: 1.6289565766153424\n"
     ]
    }
   ],
   "source": [
    "# from tensorflow.keras.layers import Conv1D\n",
    "\n",
    "# # MODEL NAME\n",
    "# model_name = 'ml_tcn'\n",
    "\n",
    "# model = Sequential()\n",
    "# model.add(Input(shape=input_shape))\n",
    "# model.add(Conv1D(16, kernel_size=4, activation='linear', padding='causal', kernel_regularizer=l2(0.01)))\n",
    "# model.add(TimeDistributed(Dense(8, activation='linear', kernel_regularizer=l2(0.01))))\n",
    "# model.add(Dropout(0.2))\n",
    "# model.add(TimeDistributed(Dense(output_shape)))\n",
    "\n",
    "# model.compile(loss='mse', optimizer='adam')\n",
    "\n",
    "# early_stopping = EarlyStopping(monitor='val_loss', patience=10, restore_best_weights=True)\n",
    "# model.fit(X_padded, y_padded, validation_split=0.2, epochs=500, batch_size=32, callbacks=[PrintCallback(), early_stopping], verbose=0)\n",
    "\n",
    "# model.save('model_weights/{}.keras'.format(model_name))\n",
    "\n",
    "# # Run simulations using trained model\n",
    "# run_all(model, model_name, features, features_scaler, output_scaler, max_len)"
   ]
  },
  {
   "cell_type": "markdown",
   "metadata": {},
   "source": [
    "# Seq2Seq"
   ]
  },
  {
   "cell_type": "code",
   "execution_count": 7,
   "metadata": {},
   "outputs": [
    {
     "name": "stdout",
     "output_type": "stream",
     "text": [
      "Epoch: 185, loss: 0.03\n",
      "ml_seq2seq\n",
      "Average TRE RMSE: 0.4447912235248274\n",
      "Average MTSK RMSE: 1.4460834447802842\n"
     ]
    }
   ],
   "source": [
    "# from tensorflow.keras.layers import LSTM, Attention, Concatenate\n",
    "# from tensorflow.keras.models import Model\n",
    "\n",
    "# # MODEL NAME\n",
    "# model_name = 'ml_seq2seq'\n",
    "\n",
    "# encoder_inputs = Input(shape=input_shape)\n",
    "# encoder_lstm = LSTM(16, return_sequences=True, return_state=True, dropout=0.2, recurrent_dropout=0.2, kernel_regularizer=l2(0.01), recurrent_regularizer=l2(0.01))\n",
    "# encoder_outputs, state_h, state_c = encoder_lstm(encoder_inputs)\n",
    "\n",
    "# decoder_inputs = Input(shape=input_shape)\n",
    "# decoder_lstm = LSTM(16, return_sequences=True, return_state=True, dropout=0.2, recurrent_dropout=0.2, kernel_regularizer=l2(0.01), recurrent_regularizer=l2(0.01))\n",
    "# decoder_outputs, _, _ = decoder_lstm(decoder_inputs, initial_state=[state_h, state_c])\n",
    "\n",
    "# attention = Attention()([decoder_outputs, encoder_outputs])\n",
    "# decoder_concat = Concatenate()([decoder_outputs, attention])\n",
    "# decoder_dense = TimeDistributed(Dense(output_shape))\n",
    "# decoder_outputs = decoder_dense(decoder_concat)\n",
    "\n",
    "# model = Model([encoder_inputs, decoder_inputs], decoder_outputs)\n",
    "# model.compile(optimizer='adam', loss='mse')\n",
    "\n",
    "# early_stopping = EarlyStopping(monitor='val_loss', patience=10, restore_best_weights=True)\n",
    "# model.fit([X_padded, X_padded], y_padded, validation_split=0.2, epochs=500, batch_size=32, callbacks=[PrintCallback(), early_stopping], verbose=0)\n",
    "\n",
    "# model.save('model_weights/{}.keras'.format(model_name))\n",
    "\n",
    "# # Run simulations using trained model\n",
    "# run_all(model, model_name, features, features_scaler, output_scaler, max_len, is_transformer=True)"
   ]
  }
 ],
 "metadata": {
  "kernelspec": {
   "display_name": ".venv",
   "language": "python",
   "name": "python3"
  },
  "language_info": {
   "codemirror_mode": {
    "name": "ipython",
    "version": 3
   },
   "file_extension": ".py",
   "mimetype": "text/x-python",
   "name": "python",
   "nbconvert_exporter": "python",
   "pygments_lexer": "ipython3",
   "version": "3.12.7"
  }
 },
 "nbformat": 4,
 "nbformat_minor": 2
}
