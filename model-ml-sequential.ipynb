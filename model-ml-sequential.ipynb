{
 "cells": [
  {
   "cell_type": "markdown",
   "metadata": {},
   "source": [
    "# Imports & Prepare Data"
   ]
  },
  {
   "cell_type": "code",
   "execution_count": 1,
   "metadata": {},
   "outputs": [
    {
     "name": "stdout",
     "output_type": "stream",
     "text": [
      "Max sequence length: 660\n",
      "Max sequence length: 660\n",
      "Max sequence length: 660\n",
      "Max sequence length: 660\n"
     ]
    }
   ],
   "source": [
    "from models.ml_sequential import prepare_data, run_all\n",
    "import tensorflow as tf\n",
    "# Disable GPU training, comment out to enable\n",
    "tf.config.set_visible_devices([], 'GPU')\n",
    "# Imports used across models\n",
    "from keras.layers import Input, Dense, TimeDistributed, Dropout\n",
    "from keras.models import Sequential\n",
    "from keras.regularizers import l2\n",
    "\n",
    "features = ['female', 'age', 'height', 'mass', 'ta_set', 'rh_set']\n",
    "features_scaler, output_scaler, X_padded_folds, y_padded_folds, max_len = prepare_data(features)\n",
    "\n",
    "# Define the input/output shape\n",
    "input_shape = (None, X_padded_folds[0].shape[-1])\n",
    "output_shape = y_padded_folds[0].shape[-1]\n",
    "\n",
    "# Train the model with early stopping\n",
    "from keras.callbacks import EarlyStopping\n",
    "\n",
    "# Custom log callback\n",
    "class PrintCallback(tf.keras.callbacks.Callback):\n",
    "    def on_epoch_end(self, epoch, logs=None):\n",
    "        print(f'Epoch: {epoch+1}, loss: {logs[\"loss\"]:.2f}', end='\\r')\n",
    "\n",
    "    def on_train_end(self, epoch):\n",
    "        print()"
   ]
  },
  {
   "cell_type": "markdown",
   "metadata": {},
   "source": [
    "# RNN"
   ]
  },
  {
   "cell_type": "code",
   "execution_count": null,
   "metadata": {},
   "outputs": [
    {
     "name": "stdout",
     "output_type": "stream",
     "text": [
      "Fold: 1\n",
      "Epoch: 398, loss: 0.04\n",
      "Fold: 2\n",
      "Epoch: 360, loss: 0.04\n",
      "Fold: 3\n",
      "Epoch: 500, loss: 0.05\n",
      "Fold: 4\n",
      "Epoch: 500, loss: 0.04\n",
      "ml_rnn\n",
      "Average TRE RMSE: 0.40913350652486097\n",
      "Average MTSK RMSE: 1.2484756718098815\n"
     ]
    }
   ],
   "source": [
    "from keras.layers import SimpleRNN\n",
    "\n",
    "# MODEL NAME\n",
    "model_name = 'ml_rnn'\n",
    "models = []\n",
    "\n",
    "for idx, (X_padded, y_padded) in enumerate(zip(X_padded_folds, y_padded_folds)):\n",
    "\tfold_number = idx + 1\n",
    "\tprint(\"Fold:\", fold_number)\n",
    "\t# Model architecture\n",
    "\tmodel = Sequential()\n",
    "\tmodel.add(Input(shape=input_shape))\n",
    "\tmodel.add(SimpleRNN(16, return_sequences=True, dropout=0.2, recurrent_dropout=0.2, kernel_regularizer=l2(0.01), recurrent_regularizer=l2(0.01)))\n",
    "\tmodel.add(TimeDistributed(Dense(8, activation='linear', kernel_regularizer=l2(0.01))))\n",
    "\tmodel.add(Dropout(0.2))\n",
    "\tmodel.add(TimeDistributed(Dense(output_shape)))\n",
    "\n",
    "\t# Compile the model\n",
    "\tmodel.compile(loss='mse', optimizer='adam')\n",
    "\n",
    "\t# Train the model\n",
    "\tearly_stopping = EarlyStopping(monitor='val_loss', patience=10, restore_best_weights=True)\n",
    "\tmodel.fit(X_padded, y_padded, validation_split=0.2, epochs=500, batch_size=32, callbacks=[PrintCallback(), early_stopping], verbose=0)\n",
    "\n",
    "\t# Save the model\n",
    "\tmodel.save('model_weights/{}-fold{}.keras'.format(model_name, fold_number))\n",
    "\n",
    "\tmodels.append(model)\n",
    "\n",
    "# Run simulations using trained model\n",
    "run_all(models, model_name, features, features_scaler, output_scaler, max_len)"
   ]
  },
  {
   "cell_type": "markdown",
   "metadata": {},
   "source": [
    "# LSTM"
   ]
  },
  {
   "cell_type": "code",
   "execution_count": 4,
   "metadata": {},
   "outputs": [
    {
     "name": "stdout",
     "output_type": "stream",
     "text": [
      "Fold: 1\n",
      "Epoch: 282, loss: 0.04\n",
      "Fold: 2\n",
      "Epoch: 296, loss: 0.04\n",
      "Fold: 3\n",
      "Epoch: 285, loss: 0.04\n",
      "Fold: 4\n",
      "Epoch: 355, loss: 0.04\n",
      "ml_lstm\n",
      "Average TRE RMSE: 0.4006921834540827\n",
      "Average MTSK RMSE: 1.1933293403769494\n"
     ]
    }
   ],
   "source": [
    "from keras.layers import LSTM\n",
    "\n",
    "# MODEL NAME\n",
    "model_name = 'ml_lstm'\n",
    "models = []\n",
    "\n",
    "for idx, (X_padded, y_padded) in enumerate(zip(X_padded_folds, y_padded_folds)):\n",
    "\tfold_number = idx + 1\n",
    "\tprint(\"Fold:\", fold_number)\n",
    "\t# Model architecture\n",
    "\tmodel = Sequential()\n",
    "\tmodel.add(Input(shape=input_shape))\n",
    "\tmodel.add(LSTM(16, return_sequences=True, dropout=0.2, recurrent_dropout=0.2, kernel_regularizer=l2(0.01), recurrent_regularizer=l2(0.01)))\n",
    "\tmodel.add(TimeDistributed(Dense(8, activation='linear', kernel_regularizer=l2(0.01))))\n",
    "\tmodel.add(Dropout(0.2))\n",
    "\tmodel.add(TimeDistributed(Dense(output_shape)))\n",
    "\n",
    "\t# Compile the model\n",
    "\tmodel.compile(loss='mse', optimizer='adam')\n",
    "\n",
    "\t# Train the model\n",
    "\tearly_stopping = EarlyStopping(monitor='val_loss', patience=10, restore_best_weights=True)\n",
    "\tmodel.fit(X_padded, y_padded, validation_split=0.2, epochs=500, batch_size=32, callbacks=[PrintCallback(), early_stopping], verbose=0)\n",
    "\n",
    "\t# Save the model\n",
    "\tmodel.save('model_weights/{}-fold{}.keras'.format(model_name, fold_number))\n",
    "\n",
    "\tmodels.append(model)\n",
    "\n",
    "# Run simulations using trained model\n",
    "run_all(models, model_name, features, features_scaler, output_scaler, max_len)"
   ]
  },
  {
   "cell_type": "markdown",
   "metadata": {},
   "source": [
    "# GRU"
   ]
  },
  {
   "cell_type": "code",
   "execution_count": 5,
   "metadata": {},
   "outputs": [
    {
     "name": "stdout",
     "output_type": "stream",
     "text": [
      "Fold: 1\n",
      "Epoch: 255, loss: 0.02\n",
      "Fold: 2\n",
      "Epoch: 322, loss: 0.02\n",
      "Fold: 3\n",
      "Epoch: 425, loss: 0.01\n",
      "Fold: 4\n",
      "Epoch: 313, loss: 0.01\n",
      "ml_gru\n",
      "Average TRE RMSE: 0.35102718032762875\n",
      "Average MTSK RMSE: 0.9882427786586373\n"
     ]
    }
   ],
   "source": [
    "from keras.layers import GRU\n",
    "\n",
    "# MODEL NAME\n",
    "model_name = 'ml_gru'\n",
    "models = []\n",
    "\n",
    "for idx, (X_padded, y_padded) in enumerate(zip(X_padded_folds, y_padded_folds)):\n",
    "\tfold_number = idx + 1\n",
    "\tprint(\"Fold:\", fold_number)\n",
    "\t# Model architecture\n",
    "\tmodel = Sequential()\n",
    "\tmodel.add(Input(shape=input_shape))\n",
    "\tmodel.add(GRU(16, return_sequences=True))\n",
    "\tmodel.add(TimeDistributed(Dense(8, activation='linear', kernel_regularizer=l2(0.01))))\n",
    "\tmodel.add(Dropout(0.2))\n",
    "\tmodel.add(TimeDistributed(Dense(output_shape)))\n",
    "\n",
    "\t# Compile the model\n",
    "\tmodel.compile(loss='mse', optimizer='adam')\n",
    "\n",
    "\t# Train the model\n",
    "\tearly_stopping = EarlyStopping(monitor='val_loss', patience=10, restore_best_weights=True)\n",
    "\tmodel.fit(X_padded, y_padded, validation_split=0.2, epochs=500, batch_size=32, callbacks=[PrintCallback(), early_stopping], verbose=0)\n",
    "\n",
    "\t# Save the model\n",
    "\tmodel.save('model_weights/{}-fold{}.keras'.format(model_name, fold_number))\n",
    "\n",
    "\tmodels.append(model)\n",
    "\n",
    "# Run simulations using trained model\n",
    "run_all(models, model_name, features, features_scaler, output_scaler, max_len)"
   ]
  },
  {
   "cell_type": "markdown",
   "metadata": {},
   "source": [
    "# TCN"
   ]
  },
  {
   "cell_type": "code",
   "execution_count": 10,
   "metadata": {},
   "outputs": [
    {
     "name": "stdout",
     "output_type": "stream",
     "text": [
      "Epoch: 500, loss: 0.03\n",
      "ml_tcn\n",
      "Average TRE RMSE: 0.4642991150064746\n",
      "Average MTSK RMSE: 1.6289565766153424\n"
     ]
    }
   ],
   "source": [
    "# from tensorflow.keras.layers import Conv1D\n",
    "\n",
    "# # MODEL NAME\n",
    "# model_name = 'ml_tcn'\n",
    "\n",
    "# model = Sequential()\n",
    "# model.add(Input(shape=input_shape))\n",
    "# model.add(Conv1D(16, kernel_size=4, activation='linear', padding='causal', kernel_regularizer=l2(0.01)))\n",
    "# model.add(TimeDistributed(Dense(8, activation='linear', kernel_regularizer=l2(0.01))))\n",
    "# model.add(Dropout(0.2))\n",
    "# model.add(TimeDistributed(Dense(output_shape)))\n",
    "\n",
    "# model.compile(loss='mse', optimizer='adam')\n",
    "\n",
    "# early_stopping = EarlyStopping(monitor='val_loss', patience=10, restore_best_weights=True)\n",
    "# model.fit(X_padded, y_padded, validation_split=0.2, epochs=500, batch_size=32, callbacks=[PrintCallback(), early_stopping], verbose=0)\n",
    "\n",
    "# model.save('model_weights/{}.keras'.format(model_name))\n",
    "\n",
    "# # Run simulations using trained model\n",
    "# run_all(model, model_name, features, features_scaler, output_scaler, max_len)"
   ]
  },
  {
   "cell_type": "markdown",
   "metadata": {},
   "source": [
    "# Seq2Seq"
   ]
  },
  {
   "cell_type": "code",
   "execution_count": 7,
   "metadata": {},
   "outputs": [
    {
     "name": "stdout",
     "output_type": "stream",
     "text": [
      "Epoch: 185, loss: 0.03\n",
      "ml_seq2seq\n",
      "Average TRE RMSE: 0.4447912235248274\n",
      "Average MTSK RMSE: 1.4460834447802842\n"
     ]
    }
   ],
   "source": [
    "# from tensorflow.keras.layers import LSTM, Attention, Concatenate\n",
    "# from tensorflow.keras.models import Model\n",
    "\n",
    "# # MODEL NAME\n",
    "# model_name = 'ml_seq2seq'\n",
    "\n",
    "# encoder_inputs = Input(shape=input_shape)\n",
    "# encoder_lstm = LSTM(16, return_sequences=True, return_state=True, dropout=0.2, recurrent_dropout=0.2, kernel_regularizer=l2(0.01), recurrent_regularizer=l2(0.01))\n",
    "# encoder_outputs, state_h, state_c = encoder_lstm(encoder_inputs)\n",
    "\n",
    "# decoder_inputs = Input(shape=input_shape)\n",
    "# decoder_lstm = LSTM(16, return_sequences=True, return_state=True, dropout=0.2, recurrent_dropout=0.2, kernel_regularizer=l2(0.01), recurrent_regularizer=l2(0.01))\n",
    "# decoder_outputs, _, _ = decoder_lstm(decoder_inputs, initial_state=[state_h, state_c])\n",
    "\n",
    "# attention = Attention()([decoder_outputs, encoder_outputs])\n",
    "# decoder_concat = Concatenate()([decoder_outputs, attention])\n",
    "# decoder_dense = TimeDistributed(Dense(output_shape))\n",
    "# decoder_outputs = decoder_dense(decoder_concat)\n",
    "\n",
    "# model = Model([encoder_inputs, decoder_inputs], decoder_outputs)\n",
    "# model.compile(optimizer='adam', loss='mse')\n",
    "\n",
    "# early_stopping = EarlyStopping(monitor='val_loss', patience=10, restore_best_weights=True)\n",
    "# model.fit([X_padded, X_padded], y_padded, validation_split=0.2, epochs=500, batch_size=32, callbacks=[PrintCallback(), early_stopping], verbose=0)\n",
    "\n",
    "# model.save('model_weights/{}.keras'.format(model_name))\n",
    "\n",
    "# # Run simulations using trained model\n",
    "# run_all(model, model_name, features, features_scaler, output_scaler, max_len, is_transformer=True)"
   ]
  }
 ],
 "metadata": {
  "kernelspec": {
   "display_name": ".venv",
   "language": "python",
   "name": "python3"
  },
  "language_info": {
   "codemirror_mode": {
    "name": "ipython",
    "version": 3
   },
   "file_extension": ".py",
   "mimetype": "text/x-python",
   "name": "python",
   "nbconvert_exporter": "python",
   "pygments_lexer": "ipython3",
   "version": "3.12.7"
  }
 },
 "nbformat": 4,
 "nbformat_minor": 2
}
