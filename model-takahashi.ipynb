{
 "cells": [
  {
   "cell_type": "code",
   "execution_count": 1,
   "id": "a27629c8-09ad-4bca-b686-4aac77aa0946",
   "metadata": {},
   "outputs": [],
   "source": [
    "import jos3\n",
    "import pandas as pd\n",
    "import numpy as np\n",
    "import matplotlib.pyplot as plt\n",
    "\n",
    "# Import dataset\n",
    "df_dataset = pd.read_csv('./dataset/230322_OlderPredictTc_data_thermal.csv')"
   ]
  },
  {
   "cell_type": "code",
   "execution_count": 2,
   "id": "612cf288-daf0-4522-980d-31b326eda9c8",
   "metadata": {},
   "outputs": [],
   "source": [
    "def simulate_trial(sample: pd.DataFrame, clo_males: float, clo_females: float, PAR: float, Va: float, isCooling: bool) -> pd.DataFrame:\n",
    "    ids = sample.id_all.unique()\n",
    "    all_core_temps = []\n",
    "    all_skin_temps = []\n",
    "    for i in ids:\n",
    "        individual = pd.DataFrame(sample[sample.id_all == i])\n",
    "        # Get parameters\n",
    "        isFemale = individual.female.iloc[0]\n",
    "        sex = 'female' if isFemale else 'male'\n",
    "        clo = clo_females if isFemale else clo_males\n",
    "        height = individual.height.iloc[0] / 100\n",
    "        weight = individual.mass.iloc[0]\n",
    "        age = individual.age.iloc[0]\n",
    "        fat = individual.bf.iloc[0]\n",
    "        # Build model (individual)\n",
    "        model = jos3.JOS3(height=height, weight=weight, age=age, fat=fat, sex=sex)\n",
    "        model.Icl = clo # Clothing level\n",
    "        model.PAR = PAR  # Physical activity ratio [-]\n",
    "        model.posture = 'sitting'  # Whether sitting or standing ??\n",
    "        # Simulate 60 minutes in air-con before entering room\n",
    "        model.Ta = 23\n",
    "        model.RH = 50\n",
    "        model.simulate(60)\n",
    "        # Environmental parameters\n",
    "        model.Ta = individual.ta_set.iloc[0]  # Operative temperature [oC]\n",
    "        model.RH = individual.rh_set.iloc[0]  # Relative humidity [%]\n",
    "        model.Va = Va  # Air velocity [m/s]\n",
    "        # Predict temperature\n",
    "        if isCooling:\n",
    "            # Predict temperature\n",
    "            model.simulate(225)\n",
    "            # Air con\n",
    "            model.Ta = 23  # Operative temperature [oC]\n",
    "            model.RH = 50  # Relative humidity [%]\n",
    "            model.simulate(120)\n",
    "            # Back into heat\n",
    "            model.Ta = individual.ta_set.iloc[0]  # Operative temperature [oC]\n",
    "            model.RH = individual.rh_set.iloc[0]  # Relative humidity [%]\n",
    "            model.simulate(individual.shape[0] - 346)\n",
    "        else:\n",
    "            model.simulate(individual.shape[0] - 1)  # Exposure time = 540 [min]\n",
    "        # Extract data\n",
    "        df_results = pd.DataFrame(model.dict_results())  # Make pandas.DataFrame\n",
    "        core_temp = df_results.TcrPelvis.tolist()[60:] # drop the first 60 minutes of air-con\n",
    "        skin_temp = df_results.TskMean.tolist()[60:] # drop the first 60 minutes of air-con\n",
    "        all_core_temps.append(core_temp)\n",
    "        all_skin_temps.append(skin_temp)\n",
    "    # Flatten list before returning\n",
    "    all_core_temps = [temp for sublist in all_core_temps for temp in sublist]\n",
    "    all_skin_temps = [temp for sublist in all_skin_temps for temp in sublist]\n",
    "    return all_core_temps, all_skin_temps"
   ]
  },
  {
   "cell_type": "code",
   "execution_count": 3,
   "id": "e789bc6d",
   "metadata": {},
   "outputs": [],
   "source": [
    "# Get sample\n",
    "from helpers import get_sample\n",
    "def run_and_save_trial(study, condition, clo_males, clo_females, PAR, Va, isCooling):\n",
    "    # Get sample\n",
    "    sample = get_sample(study, condition)\n",
    "    # Calculate core temps\n",
    "    results = simulate_trial(sample, clo_males, clo_females, PAR, Va, isCooling)\n",
    "    all_core_temps = results[0]\n",
    "    all_skin_temps = results[1]\n",
    "    # Check lengths\n",
    "    print(len(all_core_temps))\n",
    "    print(sample.shape[0])\n",
    "    # Save to csv\n",
    "    df = pd.DataFrame(all_core_temps, columns=[\"tre_predicted\"])\n",
    "    df[\"mtsk_predicted\"] = all_skin_temps\n",
    "    df.to_csv('results/takahashi-{}-{}.csv'.format(study, condition), index=False)"
   ]
  },
  {
   "cell_type": "code",
   "execution_count": 4,
   "id": "04798da7-ac91-4f66-9b24-1bcd11f725f0",
   "metadata": {},
   "outputs": [
    {
     "name": "stdout",
     "output_type": "stream",
     "text": [
      "31860\n",
      "31860\n",
      "7680\n",
      "7680\n",
      "7680\n",
      "7680\n",
      "17760\n",
      "17760\n",
      "16800\n",
      "16800\n",
      "10260\n",
      "10260\n"
     ]
    }
   ],
   "source": [
    "# Simulate using JOS-3\n",
    "# Clo values from \"2021 Ashrae handbook - Fundamentals\"\n",
    "# (briefs + shorts + slippers) or (briefs+ shorts + slippers + tshirt)\n",
    "run_and_save_trial('heatwave 1 (prolonged)', 'hot', clo_males=0.15, clo_females=0.23, PAR=1.2, Va=0.1, isCooling=False)\n",
    "\n",
    "run_and_save_trial('heatwave 2 (indoor)', 'cool', clo_males=0.23, clo_females=0.23, PAR=1.2, Va=0.1, isCooling=False)\n",
    "run_and_save_trial('heatwave 2 (indoor)', 'temp', clo_males=0.23, clo_females=0.23, PAR=1.2, Va=0.1, isCooling=False)\n",
    "run_and_save_trial('heatwave 2 (indoor)', 'warm', clo_males=0.23, clo_females=0.23, PAR=1.2, Va=0.1, isCooling=False)\n",
    "run_and_save_trial('heatwave 2 (indoor)', 'hot', clo_males=0.23, clo_females=0.23, PAR=1.2, Va=0.1, isCooling=False)\n",
    "\n",
    "run_and_save_trial('heatwave 3 (cooling)', 'hot', clo_males=0.15, clo_females=0.23, PAR=1.2, Va=0.1, isCooling=True)"
   ]
  }
 ],
 "metadata": {
  "kernelspec": {
   "display_name": "Python 3 (ipykernel)",
   "language": "python",
   "name": "python3"
  },
  "language_info": {
   "codemirror_mode": {
    "name": "ipython",
    "version": 3
   },
   "file_extension": ".py",
   "mimetype": "text/x-python",
   "name": "python",
   "nbconvert_exporter": "python",
   "pygments_lexer": "ipython3",
   "version": "3.9.12"
  }
 },
 "nbformat": 4,
 "nbformat_minor": 5
}
